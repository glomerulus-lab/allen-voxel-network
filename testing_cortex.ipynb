{
 "cells": [
  {
   "cell_type": "code",
   "execution_count": 1,
   "metadata": {},
   "outputs": [
    {
     "name": "stdout",
     "output_type": "stream",
     "text": [
      "2173 total experiments\n"
     ]
    },
    {
     "data": {
      "text/plain": [
       "gender                                                                   M\n",
       "id                                                               122642490\n",
       "injection-coordinates                                   [4020, 2160, 6870]\n",
       "injection-structures     [{u'abbreviation': u'MOp', u'color': u'1F9D5A'...\n",
       "strain                                                               B6.Cg\n",
       "structure-abbrev                                                       MOp\n",
       "structure-color                                                     1F9D5A\n",
       "structure-id                                                           985\n",
       "structure-name                                          Primary motor area\n",
       "transgenic-line                                             Syt6-Cre_KI148\n",
       "Name: 122642490, dtype: object"
      ]
     },
     "execution_count": 1,
     "metadata": {},
     "output_type": "execute_result"
    }
   ],
   "source": [
    "drive_path = '/home/kameron/work/allen/data/sdk_new_100'\n",
    "import os\n",
    "from allensdk.core.mouse_connectivity_cache import MouseConnectivityCache\n",
    "\n",
    "# When downloading 3D connectivity data volumes, what resolution do you want (in microns)?  \n",
    "# Options are: 10, 25, 50, 100\n",
    "resolution_um=100\n",
    "\n",
    "# The manifest file is a simple JSON file that keeps track of all of\n",
    "# the data that has already been downloaded onto the hard drives.\n",
    "# If you supply a relative path, it is assumed to be relative to your\n",
    "# current working directory.\n",
    "manifest_file = os.path.join(drive_path, \"manifest.json\")\n",
    "\n",
    "mcc = MouseConnectivityCache(manifest_file=manifest_file, resolution=resolution_um)\n",
    "\n",
    "# open up a pandas dataframe of all of the experiments\n",
    "all_experiments = mcc.get_experiments(dataframe=True)\n",
    "print \"%d total experiments\" % len(all_experiments)\n",
    "\n",
    "# take a look at what we know about an experiment with a primary motor injection\n",
    "all_experiments.loc[122642490]"
   ]
  },
  {
   "cell_type": "code",
   "execution_count": 2,
   "metadata": {},
   "outputs": [],
   "source": [
    "import allensdk"
   ]
  },
  {
   "cell_type": "code",
   "execution_count": 3,
   "metadata": {},
   "outputs": [
    {
     "name": "stdout",
     "output_type": "stream",
     "text": [
      "Help on method get_experiments in module allensdk.core.mouse_connectivity_cache:\n",
      "\n",
      "get_experiments(self, dataframe=False, file_name=None, cre=None, injection_structure_ids=None) method of allensdk.core.mouse_connectivity_cache.MouseConnectivityCache instance\n",
      "    Read a list of experiments that match certain criteria.  If caching is enabled,\n",
      "    this will save the whole (unfiltered) list of experiments to a file.\n",
      "    \n",
      "    Parameters\n",
      "    ----------\n",
      "    \n",
      "    dataframe: boolean\n",
      "        Return the list of experiments as a Pandas DataFrame.  If False,\n",
      "        return a list of dictionaries.  Default False.\n",
      "    \n",
      "    file_name: string\n",
      "        File name to save/read the structures table.  If file_name is None,\n",
      "        the file_name will be pulled out of the manifest.  If caching\n",
      "        is disabled, no file will be saved. Default is None.\n",
      "    \n",
      "    cre: boolean or list\n",
      "        If True, return only cre-positive experiments.  If False, return only\n",
      "        cre-negative experiments.  If None, return all experients. If list, return\n",
      "        all experiments with cre line names in the supplied list. Default None.\n",
      "    \n",
      "    injection_structure_ids: list\n",
      "        Only return experiments that were injected in the structures provided here.\n",
      "        If None, return all experiments.  Default None.\n",
      "\n"
     ]
    }
   ],
   "source": [
    "help(mcc.get_experiments)"
   ]
  },
  {
   "cell_type": "code",
   "execution_count": 4,
   "metadata": {},
   "outputs": [],
   "source": [
    "#stree = mcc.get_structure_tree()"
   ]
  },
  {
   "cell_type": "code",
   "execution_count": 5,
   "metadata": {},
   "outputs": [
    {
     "name": "stderr",
     "output_type": "stream",
     "text": [
      "/home/kameron/local/anaconda2/lib/python2.7/site-packages/allensdk/core/mouse_connectivity_cache.py:314: FutureWarning: from_csv is deprecated. Please use read_csv(...) instead. Note that some of the default arguments are different, so please refer to the documentation for from_csv when changing your function calls\n",
      "  structures = pd.DataFrame.from_csv(file_name)\n"
     ]
    }
   ],
   "source": [
    "# grab the Ontology instance\n",
    "ontology = mcc.get_ontology()\n",
    "\n",
    "# get some info on the isocortex\n",
    "isocortex = ontology['Isocortex']\n",
    "isocortex_mask, _ = mcc.get_structure_mask(isocortex['id'])"
   ]
  },
  {
   "cell_type": "code",
   "execution_count": 6,
   "metadata": {},
   "outputs": [
    {
     "data": {
      "text/plain": [
       "121743"
      ]
     },
     "execution_count": 6,
     "metadata": {},
     "output_type": "execute_result"
    }
   ],
   "source": [
    "import numpy as np\n",
    "np.sum(isocortex_mask)"
   ]
  },
  {
   "cell_type": "code",
   "execution_count": 7,
   "metadata": {},
   "outputs": [
    {
     "name": "stdout",
     "output_type": "stream",
     "text": [
      "Help on function repeat in module numpy.core.fromnumeric:\n",
      "\n",
      "repeat(a, repeats, axis=None)\n",
      "    Repeat elements of an array.\n",
      "    \n",
      "    Parameters\n",
      "    ----------\n",
      "    a : array_like\n",
      "        Input array.\n",
      "    repeats : int or array of ints\n",
      "        The number of repetitions for each element.  `repeats` is broadcasted\n",
      "        to fit the shape of the given axis.\n",
      "    axis : int, optional\n",
      "        The axis along which to repeat values.  By default, use the\n",
      "        flattened input array, and return a flat output array.\n",
      "    \n",
      "    Returns\n",
      "    -------\n",
      "    repeated_array : ndarray\n",
      "        Output array which has the same shape as `a`, except along\n",
      "        the given axis.\n",
      "    \n",
      "    See Also\n",
      "    --------\n",
      "    tile : Tile an array.\n",
      "    \n",
      "    Examples\n",
      "    --------\n",
      "    >>> np.repeat(3, 4)\n",
      "    array([3, 3, 3, 3])\n",
      "    >>> x = np.array([[1,2],[3,4]])\n",
      "    >>> np.repeat(x, 2)\n",
      "    array([1, 1, 2, 2, 3, 3, 4, 4])\n",
      "    >>> np.repeat(x, 3, axis=1)\n",
      "    array([[1, 1, 1, 2, 2, 2],\n",
      "           [3, 3, 3, 4, 4, 4]])\n",
      "    >>> np.repeat(x, [1, 2], axis=0)\n",
      "    array([[1, 2],\n",
      "           [3, 4],\n",
      "           [3, 4]])\n",
      "\n"
     ]
    }
   ],
   "source": [
    "help(np.repeat)"
   ]
  },
  {
   "cell_type": "code",
   "execution_count": 9,
   "metadata": {},
   "outputs": [],
   "source": [
    "import h5py\n",
    "vi = h5py.File(r'/home/kameron/work/allen/data/ccf_2017/dorsal_flatmap_paths_10.h5', 'r')\n",
    "lut = vi['view lookup'][:]\n",
    "paths = vi['paths'][:]\n",
    "vi.close()"
   ]
  },
  {
   "cell_type": "code",
   "execution_count": 10,
   "metadata": {},
   "outputs": [
    {
     "name": "stdout",
     "output_type": "stream",
     "text": [
      "711821\n",
      "(1320, 1140)\n",
      "945982017\n",
      "(711822, 200)\n"
     ]
    }
   ],
   "source": [
    "print lut.max()\n",
    "print lut.shape\n",
    "print paths.max()\n",
    "print paths.shape"
   ]
  },
  {
   "cell_type": "code",
   "execution_count": 10,
   "metadata": {},
   "outputs": [],
   "source": [
    "experiment_id = 181599674\n",
    "\n",
    "# projection density: number of projecting pixels / voxel volume\n",
    "pd, pd_info = mcc.get_projection_density(experiment_id)"
   ]
  },
  {
   "cell_type": "code",
   "execution_count": 11,
   "metadata": {},
   "outputs": [
    {
     "data": {
      "text/plain": [
       "{u'dimension': 3,\n",
       " u'encoding': 'gzip',\n",
       " u'endian': 'little',\n",
       " u'keyvaluepairs': {},\n",
       " u'kinds': ['domain', 'domain', 'domain'],\n",
       " u'sizes': [132, 80, 114],\n",
       " u'space': 'left-posterior-superior',\n",
       " u'space directions': [['100', '0', '0'],\n",
       "  ['0', '100', '0'],\n",
       "  ['0', '0', '100']],\n",
       " u'space origin': ['0', '0', '0'],\n",
       " u'type': 'float'}"
      ]
     },
     "execution_count": 11,
     "metadata": {},
     "output_type": "execute_result"
    }
   ],
   "source": [
    "pd_info"
   ]
  },
  {
   "cell_type": "code",
   "execution_count": 12,
   "metadata": {},
   "outputs": [
    {
     "data": {
      "text/plain": [
       "(132, 80, 114)"
      ]
     },
     "execution_count": 12,
     "metadata": {},
     "output_type": "execute_result"
    }
   ],
   "source": [
    "pd.shape"
   ]
  },
  {
   "cell_type": "code",
   "execution_count": 13,
   "metadata": {},
   "outputs": [
    {
     "name": "stderr",
     "output_type": "stream",
     "text": [
      "/home/kameron/local/anaconda2/lib/python2.7/site-packages/skimage/transform/_warps.py:84: UserWarning: The default mode, 'constant', will be changed to 'reflect' in skimage 0.15.\n",
      "  warn(\"The default mode, 'constant', will be changed to 'reflect' in \"\n"
     ]
    },
    {
     "data": {
      "text/plain": [
       "(1320, 800, 114)"
      ]
     },
     "execution_count": 13,
     "metadata": {},
     "output_type": "execute_result"
    }
   ],
   "source": [
    "from skimage.transform import rescale\n",
    "test = rescale(pd, 10, order=0)\n",
    "test.shape"
   ]
  },
  {
   "cell_type": "code",
   "execution_count": 14,
   "metadata": {},
   "outputs": [],
   "source": [
    "from scipy.ndimage import zoom \n",
    "pdrep = zoom(pd,10,order=0)"
   ]
  },
  {
   "cell_type": "code",
   "execution_count": 16,
   "metadata": {},
   "outputs": [
    {
     "data": {
      "text/plain": [
       "'0.13.1'"
      ]
     },
     "execution_count": 16,
     "metadata": {},
     "output_type": "execute_result"
    }
   ],
   "source": [
    "import skimage\n",
    "skimage.__version__"
   ]
  },
  {
   "cell_type": "code",
   "execution_count": 15,
   "metadata": {},
   "outputs": [
    {
     "data": {
      "text/plain": [
       "(1320, 800, 1140)"
      ]
     },
     "execution_count": 15,
     "metadata": {},
     "output_type": "execute_result"
    }
   ],
   "source": [
    "pdrep.shape"
   ]
  },
  {
   "cell_type": "code",
   "execution_count": 17,
   "metadata": {},
   "outputs": [
    {
     "data": {
      "text/plain": [
       "1203840000"
      ]
     },
     "execution_count": 17,
     "metadata": {},
     "output_type": "execute_result"
    }
   ],
   "source": [
    "132*80*114*10**3"
   ]
  },
  {
   "cell_type": "code",
   "execution_count": 18,
   "metadata": {},
   "outputs": [],
   "source": [
    "# calculate output array\n",
    "output_pd = np.zeros(lut.shape, dtype=pdrep.dtype)\n",
    " \n",
    "# all pixels in surface view with a stream line\n",
    "ind = np.where(lut > -1)\n",
    "ind = zip(ind[0], ind[1])\n",
    " \n",
    "for curr_ind in ind:\n",
    "    curr_path_id = lut[curr_ind]\n",
    "    curr_path = paths[curr_path_id, :]\n",
    "    curr_pd_line = pdrep.flat[curr_path]\n",
    "    curr_max_ind = curr_path[np.argmax(curr_pd_line)]\n",
    "    output_pd[curr_ind] = pdrep.flat[curr_max_ind]"
   ]
  },
  {
   "cell_type": "code",
   "execution_count": 20,
   "metadata": {},
   "outputs": [
    {
     "data": {
      "image/png": "[encoded data removed]",
      "text/plain": [
       "<matplotlib.figure.Figure at 0x7f4443b27110>"
      ]
     },
     "metadata": {},
     "output_type": "display_data"
    }
   ],
   "source": [
    "import matplotlib.pyplot as plt\n",
    "plt.imshow(output_pd)\n",
    "plt.show()"
   ]
  },
  {
   "cell_type": "code",
   "execution_count": 23,
   "metadata": {},
   "outputs": [],
   "source": [
    "drive_path = '/home/kameron/work/allen/data/sdk_new_10'\n",
    "\n",
    "# When downloading 3D connectivity data volumes, what resolution do you want (in microns)?  \n",
    "# Options are: 10, 25, 50, 100\n",
    "resolution_um=10\n",
    "\n",
    "# The manifest file is a simple JSON file that keeps track of all of\n",
    "# the data that has already been downloaded onto the hard drives.\n",
    "# If you supply a relative path, it is assumed to be relative to your\n",
    "# current working directory.\n",
    "manifest_file = os.path.join(drive_path, \"manifest.json\")\n",
    "\n",
    "mcc10 = MouseConnectivityCache(manifest_file=manifest_file, resolution=resolution_um)"
   ]
  },
  {
   "cell_type": "code",
   "execution_count": null,
   "metadata": {},
   "outputs": [],
   "source": [
    "experiment_id = 181599674\n",
    "\n",
    "# projection density: number of projecting pixels / voxel volume\n",
    "pd, pd_info = mcc10.get_projection_density(experiment_id)"
   ]
  },
  {
   "cell_type": "code",
   "execution_count": null,
   "metadata": {},
   "outputs": [],
   "source": [
    "pd.shape"
   ]
  },
  {
   "cell_type": "code",
   "execution_count": null,
   "metadata": {},
   "outputs": [],
   "source": [
    "pd.dtype"
   ]
  },
  {
   "cell_type": "code",
   "execution_count": null,
   "metadata": {},
   "outputs": [],
   "source": [
    "pd_info"
   ]
  },
  {
   "cell_type": "code",
   "execution_count": null,
   "metadata": {},
   "outputs": [],
   "source": [
    "# calculate output array\n",
    "output_pd = np.zeros(lut.shape, dtype=pd.dtype)\n",
    " \n",
    "# all pixels in surface view with a stream line\n",
    "ind = np.where(lut > -1)\n",
    "ind = zip(ind[0], ind[1])\n",
    " \n",
    "for curr_ind in ind:\n",
    "    curr_path_id = lut[curr_ind]\n",
    "    curr_path = paths[curr_path_id, :]\n",
    "    curr_pd_line = pd.flat[curr_path]\n",
    "    curr_max_ind = curr_path[np.argmax(curr_pd_line)]\n",
    "    output_pd[curr_ind] = pd.flat[curr_max_ind]"
   ]
  },
  {
   "cell_type": "code",
   "execution_count": null,
   "metadata": {},
   "outputs": [],
   "source": [
    "import matplotlib.pyplot as plt\n",
    "plt.imshow(output_pd)"
   ]
  },
  {
   "cell_type": "code",
   "execution_count": null,
   "metadata": {},
   "outputs": [],
   "source": [
    "plt.show()"
   ]
  }
 ],
 "metadata": {
  "kernelspec": {
   "display_name": "Python 2",
   "language": "python",
   "name": "python2"
  },
  "language_info": {
   "codemirror_mode": {
    "name": "ipython",
    "version": 2
   },
   "file_extension": ".py",
   "mimetype": "text/x-python",
   "name": "python",
   "nbconvert_exporter": "python",
   "pygments_lexer": "ipython2",
   "version": "2.7.14"
  }
 },
 "nbformat": 4,
 "nbformat_minor": 1
}
