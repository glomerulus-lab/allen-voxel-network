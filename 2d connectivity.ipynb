{
 "cells": [
  {
   "cell_type": "code",
   "execution_count": 1,
   "metadata": {},
   "outputs": [
    {
     "name": "stderr",
     "output_type": "stream",
     "text": [
      "/home/kamdh/anaconda2/lib/python2.7/site-packages/ipykernel_launcher.py:19: VisibleDeprecationWarning: Function get_ontology is deprecated. Use get_structure_tree instead.\n",
      "/home/kamdh/anaconda2/lib/python2.7/site-packages/allensdk/core/mouse_connectivity_cache.py:317: VisibleDeprecationWarning: Function get_structures is deprecated. Use get_structure_tree instead.\n",
      "  return Ontology(self.get_structures(file_name))\n",
      "/home/kamdh/anaconda2/lib/python2.7/site-packages/allensdk/core/mouse_connectivity_cache.py:317: VisibleDeprecationWarning: Class Ontology is deprecated. Use StructureTree instead.\n",
      "  return Ontology(self.get_structures(file_name))\n"
     ]
    },
    {
     "name": "stdout",
     "output_type": "stream",
     "text": [
      "126 total experiments\n"
     ]
    }
   ],
   "source": [
    "import os\n",
    "from allensdk.core.mouse_connectivity_cache import MouseConnectivityCache\n",
    "import numpy as np\n",
    "import h5py\n",
    "\n",
    "drive_path = os.path.join(os.getenv('HOME'), 'work/allen/data/sdk_new_100')\n",
    "\n",
    "# When downloading 3D connectivity data volumes, what resolution do you want (in microns)?  \n",
    "# Options are: 10, 25, 50, 100\n",
    "resolution_um=10\n",
    "\n",
    "# The manifest file is a simple JSON file that keeps track of all of\n",
    "# the data that has already been downloaded onto the hard drives.\n",
    "# If you supply a relative path, it is assumed to be relative to your\n",
    "# current working directory.\n",
    "manifest_file = os.path.join(drive_path, \"manifest.json\")\n",
    "\n",
    "mcc = MouseConnectivityCache(manifest_file=manifest_file, resolution=resolution_um)\n",
    "ontology = mcc.get_ontology()\n",
    "# get some info on the isocortex\n",
    "isocortex = ontology['Isocortex']\n",
    "\n",
    "# open up a pandas dataframe of all of the experiments\n",
    "experiments = mcc.get_experiments(dataframe = True, \n",
    "                                  injection_structure_ids = [isocortex['id'].values[0]], \n",
    "                                  cre = False)\n",
    "print \"%d total experiments\" % len(experiments)\n"
   ]
  },
  {
   "cell_type": "code",
   "execution_count": 2,
   "metadata": {
    "scrolled": true
   },
   "outputs": [
    {
     "data": {
      "text/plain": [
       "gender                                                                   M\n",
       "id                                                               180435652\n",
       "injection-coordinates                                   [7820, 4250, 9870]\n",
       "injection-structures     [{u'abbreviation': u'TEa', u'color': u'15B0B3'...\n",
       "product-id                                                               5\n",
       "strain                                                            C57BL/6J\n",
       "structure-abbrev                                                       ECT\n",
       "structure-color                                                     0D9F91\n",
       "structure-id                                                           895\n",
       "structure-name                                             Ectorhinal area\n",
       "transgenic-line                                                           \n",
       "Name: 180435652, dtype: object"
      ]
     },
     "execution_count": 2,
     "metadata": {},
     "output_type": "execute_result"
    }
   ],
   "source": [
    "experiments.iloc[0]"
   ]
  },
  {
   "cell_type": "code",
   "execution_count": 3,
   "metadata": {
    "collapsed": true
   },
   "outputs": [],
   "source": [
    "def map_to_surface(im, lut, paths, scale = 1, fun = np.max, set_nan = True):\n",
    "    '''\n",
    "    maps a gridded voxel image onto the cortical surface\n",
    "    '''\n",
    "    scale = float(scale)\n",
    "    old_dims = im.shape\n",
    "    new_dims = (1320, 800, 1140) # hard-coded\n",
    "    for i, dim in enumerate(new_dims):\n",
    "        assert np.floor(old_dims[i] * scale).astype(int) == dim, \\\n",
    "            \"dimension mismatch\"\n",
    "    # deal with scaling through re-indexing\n",
    "    def remap_coord(c):\n",
    "        #new_dims = tuple(np.round(np.array(old_dims) * scale).astype(int))\n",
    "        (I,J,K) = np.unravel_index(c, new_dims)\n",
    "        I = np.round(I / scale).astype(int)\n",
    "        J = np.round(J / scale).astype(int)\n",
    "        K = np.round(K / scale).astype(int)\n",
    "        return np.ravel_multi_index((I,J,K), old_dims)\n",
    "    # calculate output array\n",
    "    output_pd = np.zeros(lut.shape, dtype=im.dtype)    \n",
    "    # all pixels in surface view with a stream line\n",
    "    ind = np.where(lut > -1)\n",
    "    ind = zip(ind[0], ind[1])\n",
    "    for curr_ind in ind:\n",
    "        curr_path_id = lut[curr_ind]\n",
    "        curr_path = paths[curr_path_id, :]\n",
    "        if scale != 1:\n",
    "            curr_path_rescale = remap_coord(curr_path)\n",
    "        else:\n",
    "            curr_path_rescale = curr_path\n",
    "        #(I,J,K) = remap_coord(curr_path, old_dims, scale)\n",
    "        # image along path\n",
    "        #curr_pd_line = im[I,J,K]\n",
    "        curr_pd_line = im.flat[curr_path_rescale]\n",
    "        value = fun(curr_pd_line)\n",
    "        output_pd[curr_ind] = value\n",
    "        #if np.any(np.nonzero(curr_pd_line)):\n",
    "        #    print curr_ind\n",
    "        #    print curr_path\n",
    "        #    #print (I,J,K)\n",
    "        #    print curr_pd_line\n",
    "        #    print value\n",
    "        #    break\n",
    "    if set_nan:\n",
    "        output_pd[lut == -1] = np.nan\n",
    "    return output_pd"
   ]
  },
  {
   "cell_type": "code",
   "execution_count": 4,
   "metadata": {
    "collapsed": true
   },
   "outputs": [],
   "source": [
    "view_paths_fn = os.path.join(os.getenv('HOME'), 'work/allen/data/TopView/top_view_paths_10.h5')\n",
    "view_paths_file = h5py.File(view_paths_fn, 'r')\n",
    "view_lut = view_paths_file['view lookup'][:]\n",
    "view_paths = view_paths_file['paths'][:]\n",
    "view_paths_file.close()"
   ]
  },
  {
   "cell_type": "code",
   "execution_count": null,
   "metadata": {},
   "outputs": [
    {
     "name": "stdout",
     "output_type": "stream",
     "text": [
      "\n",
      "Processing experiment 180435652\n",
      "gender                                                                   M\n",
      "id                                                               180435652\n",
      "injection-coordinates                                   [7820, 4250, 9870]\n",
      "injection-structures     [{u'abbreviation': u'TEa', u'color': u'15B0B3'...\n",
      "product-id                                                               5\n",
      "strain                                                            C57BL/6J\n",
      "structure-abbrev                                                       ECT\n",
      "structure-color                                                     0D9F91\n",
      "structure-id                                                           895\n",
      "structure-name                                             Ectorhinal area\n",
      "transgenic-line                                                           \n",
      "Name: 180435652, dtype: object\n",
      "getting injection density\n",
      "mapping to surface\n",
      "writing /home/kamdh/work/allen/data/sdk_new_100/experiment_180435652/injection_density_top_view_10.nrrd\n",
      "getting projection density\n",
      "mapping to surface\n",
      "writing /home/kamdh/work/allen/data/sdk_new_100/experiment_180435652/projection_density_top_view_10.nrrd\n",
      "\n",
      "Processing experiment 180436360\n",
      "gender                                                                   M\n",
      "id                                                               180436360\n",
      "injection-coordinates                                   [4800, 4720, 8980]\n",
      "injection-structures     [{u'abbreviation': u'AId', u'color': u'219866'...\n",
      "product-id                                                               5\n",
      "strain                                                            C57BL/6J\n",
      "structure-abbrev                                                      VISC\n",
      "structure-color                                                     11AD83\n",
      "structure-id                                                           677\n",
      "structure-name                                               Visceral area\n",
      "transgenic-line                                                           \n",
      "Name: 180436360, dtype: object\n",
      "getting injection density\n"
     ]
    }
   ],
   "source": [
    "\n",
    "import time\n",
    "import nrrd\n",
    "\n",
    "t0 = time.time()\n",
    "\n",
    "#eid = experiments.iloc[5].id\n",
    "#row = experiments.iloc[5]\n",
    "for eid, row in experiments.iterrows():\n",
    "    print \"\\nProcessing experiment %d\" % eid\n",
    "    print row\n",
    "    data_dir = os.path.join(os.getenv('HOME'), \"work/allen/data/sdk_new_100/experiment_%d/\" % eid)\n",
    "    \n",
    "    # get and remap injection data\n",
    "    print \"getting injection density\"\n",
    "    in_d, in_info = mcc.get_injection_density(eid)\n",
    "    print \"mapping to surface\"\n",
    "    in_d_s = map_to_surface(in_d, view_lut, view_paths, scale = resolution_um/10., fun=np.mean)\n",
    "    in_fn = data_dir + \"injection_density_top_view_%d.nrrd\" % int(resolution_um)\n",
    "    print \"writing \" + in_fn\n",
    "    nrrd.write(in_fn, in_d_s)\n",
    "    \n",
    "    # get and remap projection data\n",
    "    print \"getting projection density\"\n",
    "    pr_d, pr_info = mcc.get_projection_density(eid)\n",
    "    print \"mapping to surface\"\n",
    "    pr_d_s = map_to_surface(pr_d, view_lut, view_paths, scale = resolution_um/10., fun=np.mean)\n",
    "    pr_fn = data_dir + \"projection_density_top_view_%d.nrrd\" % int(resolution_um)\n",
    "    print \"writing \" + pr_fn\n",
    "    nrrd.write(pr_fn, pr_d_s)\n",
    "\n",
    "t1 = time.time()\n",
    "total = t1-t0\n",
    "print \"%0.1f minutes elapsed\" % (total/60.)"
   ]
  },
  {
   "cell_type": "code",
   "execution_count": 6,
   "metadata": {},
   "outputs": [
    {
     "data": {
      "image/png": "[encoded data removed]",
      "text/plain": [
       "<matplotlib.figure.Figure at 0x7f2a195f59d0>"
      ]
     },
     "metadata": {},
     "output_type": "display_data"
    }
   ],
   "source": [
    "import matplotlib.pyplot as plt\n",
    "%matplotlib inline\n",
    "\n",
    "fig = plt.figure(figsize = (10,10))\n",
    "ax = fig.add_subplot(121)\n",
    "h = ax.imshow(in_d_s)\n",
    "#fig.colorbar(h)\n",
    "\n",
    "#fig2 = plt.figure(figsize = (10,10))\n",
    "ax2 = fig.add_subplot(122)\n",
    "h2 = ax2.imshow(pr_d_s)\n",
    "#fig2.colorbar(h2)"
   ]
  },
  {
   "cell_type": "code",
   "execution_count": null,
   "metadata": {
    "collapsed": true
   },
   "outputs": [],
   "source": []
  }
 ],
 "metadata": {
  "kernelspec": {
   "display_name": "Python 2",
   "language": "python",
   "name": "python2"
  },
  "language_info": {
   "codemirror_mode": {
    "name": "ipython",
    "version": 2
   },
   "file_extension": ".py",
   "mimetype": "text/x-python",
   "name": "python",
   "nbconvert_exporter": "python",
   "pygments_lexer": "ipython2",
   "version": "2.7.13"
  }
 },
 "nbformat": 4,
 "nbformat_minor": 2
}
