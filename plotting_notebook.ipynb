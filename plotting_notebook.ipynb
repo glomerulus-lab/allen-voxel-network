{
 "cells": [
  {
   "cell_type": "markdown",
   "metadata": {},
   "source": [
    "## Imports and parameters"
   ]
  },
  {
   "cell_type": "code",
   "execution_count": 3,
   "metadata": {
    "collapsed": false
   },
   "outputs": [],
   "source": [
    "import os\n",
    "from scipy.io import loadmat,savemat,mmread\n",
    "import numpy as np\n",
    "import matplotlib.pyplot as plt\n",
    "from scipy.stats import mode\n",
    "from matplotlib.colors import LinearSegmentedColormap,LogNorm\n",
    "from voxnet.plotting import *\n",
    "from voxnet.utilities import h5read\n",
    "from skimage.measure import find_contours\n",
    "import h5py\n",
    "\n",
    "inj_site='VISp' # for virtual injections\n",
    "inj_radius=1 # units of voxels\n",
    "inj_stride=2\n",
    "int_axis=1\n",
    "plot_type = 'low_rank'\n",
    "#save_stem='allvis_sdk_free_noshell'\n",
    "save_stem='extra_vis_friday_harbor'\n",
    "contour_list=[425,533,402]\n",
    "lambda_str = '10'\n",
    "output_dir='integrated_gaussian_%s_norm' % lambda_str\n",
    "do_int_plots=True\n",
    "base_dir=os.path.join('../connectivities',save_stem)\n",
    "fn_matrices=os.path.join(base_dir, save_stem + '.mat')\n",
    "fig_dir=os.path.join(base_dir, \"figures\")\n",
    "int_plot_dir=os.path.join(fig_dir,output_dir)\n",
    "try:\n",
    "    os.makedirs(int_plot_dir)\n",
    "except OSError: \n",
    "    pass\n",
    "fout_virt=os.path.join(int_plot_dir,'virt_0.90_gaussian_lambda100.vtk')\n",
    "fout_real=os.path.join(int_plot_dir,'real_0.90_gaussian_lambda100.vtk')\n",
    "select_injections=[74, 76, 89, 234, 236, 238]\n",
    "select_colors=[\"myred\", \"mygreen\", \"myblue\", \"myred\", \"mygreen\",\"myblue\"]\n",
    "view_paths_fn = r'/home/kameron/work/allen/data/TopView/top_view_paths_10.h5'\n",
    "bbox_100 = [132, 80, 114]"
   ]
  },
  {
   "cell_type": "code",
   "execution_count": 30,
   "metadata": {
    "collapsed": true
   },
   "outputs": [],
   "source": [
    "def map_to_surface(im, lut, paths, scale = 1, fun = np.max, set_nan = True):\n",
    "    '''\n",
    "    maps a gridded voxel image onto the cortical surface\n",
    "    '''\n",
    "    old_dims = im.shape\n",
    "    # deal with scaling through re-indexing\n",
    "    def remap_coord(c, old_dims, scale):\n",
    "        new_dims = tuple(np.round(np.array(old_dims) * scale).astype(int))\n",
    "        (I,J,K) = np.unravel_index(c, new_dims)\n",
    "        I = np.floor(I / scale).astype(int)\n",
    "        J = np.floor(J / scale).astype(int)\n",
    "        K = np.floor(K / scale).astype(int)\n",
    "        return np.ravel_multi_index((I,J,K), old_dims)\n",
    "    # calculate output array\n",
    "    output_pd = np.zeros(lut.shape, dtype=im.dtype)    \n",
    "    # all pixels in surface view with a stream line\n",
    "    ind = np.where(lut > -1)\n",
    "    ind = zip(ind[0], ind[1])\n",
    "    for curr_ind in ind:\n",
    "        curr_path_id = lut[curr_ind]\n",
    "        curr_path = paths[curr_path_id, :]\n",
    "        curr_path_rescale = remap_coord(curr_path[np.nonzero(curr_path)], old_dims, scale)\n",
    "        # image along path\n",
    "        curr_pd_line = im.flat[curr_path_rescale]\n",
    "        output_pd[curr_ind] = fun(curr_pd_line)\n",
    "    if set_nan is True:\n",
    "        output_pd[lut == -1] = np.nan\n",
    "    return output_pd"
   ]
  },
  {
   "cell_type": "markdown",
   "metadata": {},
   "source": [
    "## Load data"
   ]
  },
  {
   "cell_type": "code",
   "execution_count": 5,
   "metadata": {
    "collapsed": false
   },
   "outputs": [
    {
     "name": "stdout",
     "output_type": "stream",
     "text": [
      "Making plots for extra_vis_friday_harbor\n",
      "integrated_gaussian_10_norm\n",
      "W dims: 7497 x 7497\n",
      "Data all loaded\n"
     ]
    }
   ],
   "source": [
    "print \"Making plots for \" + save_stem\n",
    "print output_dir\n",
    "\n",
    "## Load data\n",
    "\n",
    "mat=loadmat(fn_matrices)\n",
    "locals().update(mat)\n",
    "\n",
    "#X=h5read(os.path.join(base_dir, save_stem + '_X.h5'))\n",
    "X=h5read(os.path.join(base_dir, save_stem + '_X_norm_by_Y.h5'))\n",
    "#X=mmread(os.path.join(base_dir, save_stem + '_X.mtx'))\n",
    "\n",
    "#Y_ipsi=h5read(os.path.join(base_dir, save_stem + '_Y_ipsi.h5'))\n",
    "Y_ipsi=h5read(os.path.join(base_dir, save_stem + '_Y_norm_by_Y.h5'))\n",
    "#Y_ipsi=mmread(os.path.join(base_dir, save_stem + '_Y_ipsi.mtx'))\n",
    "\n",
    "#W_ipsi=h5read(os.path.join(base_dir, 'W_ipsi_%s.h5' % lambda_str)) # antero\n",
    "#W_ipsi=h5read(os.path.join(base_dir, 'W_ipsi_%s.h5' % lambda_str)).T # retro\n",
    "#W_ipsi=h5read(os.path.join(base_dir, 'W_low_rank_res_160.h5')) # residual\n",
    "#W_ipsi=h5read(os.path.join(base_dir, 'W_low_rank_160.h5')) # low rank\n",
    "W_ipsi=h5read(os.path.join(base_dir, 'W_norm_ipsi_10.h5')) # normalized\n",
    "\n",
    "view_paths_file = h5py.File(view_paths_fn, 'r')\n",
    "view_lut = view_paths_file['view lookup'][:]\n",
    "view_paths = view_paths_file['paths'][:]\n",
    "#view_paths_file.close()\n",
    "\n",
    "print \"W dims: %d x %d\" % (W_ipsi.shape[0], W_ipsi.shape[1])\n",
    "print \"Data all loaded\""
   ]
  },
  {
   "cell_type": "code",
   "execution_count": 6,
   "metadata": {
    "collapsed": false
   },
   "outputs": [
    {
     "data": {
      "text/plain": [
       "(array([ 71.,   3.,  69.]), array([ 103.,   34.,  104.]))"
      ]
     },
     "execution_count": 6,
     "metadata": {},
     "output_type": "execute_result"
    }
   ],
   "source": [
    "bounding_box(voxel_coords_source)"
   ]
  },
  {
   "cell_type": "code",
   "execution_count": 7,
   "metadata": {
    "collapsed": false
   },
   "outputs": [
    {
     "data": {
      "text/plain": [
       "array([[ 79.,  14.,  95.],\n",
       "       [ 79.,  14.,  96.],\n",
       "       [ 79.,  14.,  97.],\n",
       "       ..., \n",
       "       [ 83.,  16.,  88.],\n",
       "       [ 83.,  16.,  89.],\n",
       "       [ 83.,  17.,  88.]])"
      ]
     },
     "execution_count": 7,
     "metadata": {},
     "output_type": "execute_result"
    }
   ],
   "source": [
    "voxel_coords_target_ipsi"
   ]
  },
  {
   "cell_type": "code",
   "execution_count": 8,
   "metadata": {
    "collapsed": false
   },
   "outputs": [
    {
     "data": {
      "text/plain": [
       "array([ 33.,  32.,  36.])"
      ]
     },
     "execution_count": 8,
     "metadata": {},
     "output_type": "execute_result"
    }
   ],
   "source": [
    "shape_regular_grid(voxel_coords_source)"
   ]
  },
  {
   "cell_type": "code",
   "execution_count": 39,
   "metadata": {
    "collapsed": false
   },
   "outputs": [
    {
     "data": {
      "text/plain": [
       "array([[ 402.],\n",
       "       [ 402.],\n",
       "       [ 402.],\n",
       "       ..., \n",
       "       [ 417.],\n",
       "       [ 417.],\n",
       "       [ 417.]])"
      ]
     },
     "execution_count": 39,
     "metadata": {},
     "output_type": "execute_result"
    }
   ],
   "source": [
    "col_label_list_source"
   ]
  },
  {
   "cell_type": "code",
   "execution_count": 49,
   "metadata": {
    "collapsed": false
   },
   "outputs": [
    {
     "data": {
      "text/plain": [
       "(132, 80, 114)"
      ]
     },
     "execution_count": 49,
     "metadata": {},
     "output_type": "execute_result"
    }
   ],
   "source": [
    "test_col = map_to_regular_grid(W_ipsi[:,124], voxel_coords_target_ipsi, bbox_100)\n",
    "test_col.shape"
   ]
  },
  {
   "cell_type": "code",
   "execution_count": 50,
   "metadata": {
    "collapsed": false
   },
   "outputs": [],
   "source": [
    "test_sfc = map_to_surface(test_col, view_lut, view_paths, scale=10)"
   ]
  },
  {
   "cell_type": "code",
   "execution_count": 51,
   "metadata": {
    "collapsed": false
   },
   "outputs": [
    {
     "data": {
      "text/plain": [
       "<matplotlib.colorbar.Colorbar at 0x7f8562c65b50>"
      ]
     },
     "execution_count": 51,
     "metadata": {},
     "output_type": "execute_result"
    },
    {
     "data": {
      "image/png": "[encoded data removed]",
      "text/plain": [
       "<matplotlib.figure.Figure at 0x7f85a023a290>"
      ]
     },
     "metadata": {},
     "output_type": "display_data"
    }
   ],
   "source": [
    "%matplotlib inline\n",
    "fig = plt.figure(figsize = (10,10))\n",
    "ax = fig.add_subplot(111)\n",
    "h = ax.imshow(test_sfc)\n",
    "fig.colorbar(h)"
   ]
  },
  {
   "cell_type": "markdown",
   "metadata": {},
   "source": [
    "## Start plotting"
   ]
  },
  {
   "cell_type": "code",
   "execution_count": null,
   "metadata": {
    "collapsed": true
   },
   "outputs": [],
   "source": [
    "## Voxel lookup tables\n",
    "inj_site_id = source_ids[np.where(source_acro==inj_site)]\n",
    "coord_vox_map_source = index_lookup_map(voxel_coords_source)\n",
    "coord_vox_map_target_contra = index_lookup_map(voxel_coords_target_ipsi)\n",
    "coord_vox_map_target_ipsi = index_lookup_map(voxel_coords_target_contra)\n",
    "\n",
    "## Compute region annotation\n",
    "rearrange_2d = lambda(arr): arr\n",
    "#rearrange_2d=lambda(arr): np.fliplr(arr)\n",
    "#rearrange_2d=lambda(arr): np.swapaxes(arr,0,1)\n",
    "# remap labels\n",
    "new_labels = col_label_list_source.copy()\n",
    "new_label_map = []\n",
    "for i,label in enumerate(np.unique(new_labels)):\n",
    "    new_labels[new_labels == label] = i+1\n",
    "    new_label_map.append(label)\n",
    "label_grid = map_to_regular_grid(new_labels,\n",
    "                               voxel_coords_source).squeeze()\n",
    "label_grid[label_grid==0] = np.nan\n",
    "label_grid_2d = mode(label_grid, axis=int_axis)[0].squeeze()\n",
    "label_grid_2d[label_grid_2d==0] = np.nan\n",
    "label_unique = np.unique(new_labels)\n",
    "label_grid_2d = rearrange_2d(label_grid_2d)\n",
    "\n",
    "## Compute some region contours and setup helper functions\n",
    "contours = find_contours(label_grid_2d, 385.5)\n",
    "                                       # this threshold just happens\n",
    "                                       # to work ok for visual areas\n",
    "\n",
    "def plot_region_contours():\n",
    "    '''\n",
    "    Convenience function that plots some region boundaries\n",
    "\n",
    "    '''\n",
    "    for n, contour in enumerate(contours):\n",
    "        ax.plot(contour[:, 1], contour[:, 0], linewidth=1, c='gray')\n",
    "\n",
    "def draw_region_labels():\n",
    "    '''\n",
    "    Convenience function that draws region labels\n",
    "    '''\n",
    "    for i,label in enumerate(np.unique(col_label_list_source)):\n",
    "        x,y = centroid_of_region_2d(label_grid_2d, i+1)\n",
    "        # region_name=source_acro[source_ids==label_lookup[newlab]][0][0]\n",
    "        region_name=source_acro[source_ids==label][0][0]\n",
    "        # print \"%s centroid at (%d, %d)\" % (region_name,x,y)\n",
    "        plt.annotate(region_name, xy=(x-1., y))\n",
    "\n",
    "## Plot region annotation\n",
    "fig,ax=plt.subplots()\n",
    "ax.imshow(label_grid_2d,\n",
    "          cmap=plt.get_cmap('Accent'),\n",
    "          interpolation='none')\n",
    "plt.hold(True)\n",
    "draw_region_labels()\n",
    "plt.tick_params(axis='both', which='both', bottom='off',\n",
    "                top='off', labelbottom='off', right='off',\n",
    "                left='off', labelleft='off')\n",
    "plt.xlabel('center - right', fontsize=24)\n",
    "plt.ylabel('posterior - anterior', fontsize=24)\n",
    "plt.savefig(os.path.join(int_plot_dir,\"region_names.png\"))\n",
    "plt.close()\n",
    "\n",
    "## Build virtual injections\n",
    "Xvirt,inj_centers = build_injection_vectors(voxel_coords_source,\n",
    "                                           coord_vox_map_source,\n",
    "                                           col_label_list_source,\n",
    "                                           inj_site_id,\n",
    "                                           inj_radius,\n",
    "                                           inj_stride)\n",
    "num_virt=Xvirt.shape[1]\n",
    "if num_virt < 1:\n",
    "    raise Exception(\"No virtual injections fit!\")\n",
    "\n",
    "## Compute virtual projections\n",
    "Yvirt_ipsi=np.dot(W_ipsi,Xvirt)\n",
    "\n",
    "## Map to 3d grid\n",
    "Xvirt_grid          = map_to_regular_grid(Xvirt, voxel_coords_source)\n",
    "Yvirt_ipsi_grid     = map_to_regular_grid(Yvirt_ipsi, voxel_coords_target_ipsi)\n",
    "Xreal_grid          = map_to_regular_grid(X, voxel_coords_source)\n",
    "Yreal_ipsi_grid     = map_to_regular_grid(Y_ipsi, voxel_coords_target_ipsi)\n",
    "Xvirt_int_grid      = np.sum(Xvirt_grid, axis=int_axis)\n",
    "Yvirt_ipsi_int_grid = np.sum(Yvirt_ipsi_grid, axis=int_axis)\n",
    "\n",
    "## Save VTKs --- volumetric data\n",
    "print \"Saving VTKs\"\n",
    "save_as_vtk_old(fout_virt,Xvirt_grid,Yvirt_ipsi_grid,\n",
    "                voxel_coords_source,voxel_coords_target_ipsi)\n",
    "save_as_vtk_old(fout_real,Xreal_grid,Yreal_ipsi_grid,\n",
    "                voxel_coords_source,voxel_coords_target_ipsi)\n",
    "print \"VTKs saved.\"\n",
    "\n",
    "\n",
    "\n",
    "## Plot virtual injections\n",
    "def plot_integrated(fig,ax,inj,proj_cname,inj_cname,Xgrid,Ygrid):\n",
    "    cax=ax.imshow(rearrange_2d(Ygrid[:,:,inj]),\n",
    "                  cmap=plt.get_cmap(proj_cname),\n",
    "                  clim=(0.0,0.03),\n",
    "                  #clim=(-0.003,0.003),\n",
    "                  #norm=LogNorm(vmin=1e-3),\n",
    "                  interpolation='none')\n",
    "    cbar = fig.colorbar(cax)\n",
    "    tmp=rearrange_2d(Xgrid[:,:,inj])\n",
    "    masked_tmp=np.ma.masked_where(tmp==0.0,tmp)\n",
    "    ax.imshow(masked_tmp, cmap=plt.get_cmap(inj_cname),\n",
    "              clim=(0.0,0.3), interpolation='none')\n",
    "    return \n",
    "\n",
    "if do_int_plots:\n",
    "    for inj in range(num_virt):\n",
    "        y_inj=inj_centers[1,inj]\n",
    "        fig,ax=plt.subplots()\n",
    "        # Reds: linear colormap for connectivities\n",
    "        plot_integrated(fig, ax, inj, 'Reds', 'Blues',\n",
    "                        Xvirt_int_grid,Yvirt_ipsi_int_grid)\n",
    "        # PuOr: diverging colormap for resids\n",
    "        # plot_integrated(fig,ax,inj,'PuOr','Blues',\n",
    "        #                 Xvirt_int_grid,Yvirt_ipsi_int_grid)\n",
    "        plt.tick_params(axis='both', which='both', bottom='off',\n",
    "                        top='off', labelbottom='off', right='off',\n",
    "                        left='off', labelleft='off')\n",
    "        plt.xlabel('center - right', fontsize=24)\n",
    "        plt.ylabel('posterior - anterior', fontsize=24)\n",
    "        plt.title('depth y = %d' % y_inj)\n",
    "        plt.hold(True)\n",
    "        plot_region_contours()\n",
    "        draw_region_labels()\n",
    "        # ax.imshow(edges,\n",
    "        #    cmap=plt.get_cmap('gray_r'),interpolation='none',\n",
    "        #    alpha=0.1)\n",
    "        fig_file=os.path.join(int_plot_dir, \"int_virt_inj%d.png\" % inj)\n",
    "        plt.savefig(fig_file)\n",
    "        plt.close()\n",
    "        print fig_file\n",
    "\n",
    "## Setup select injection colors\n",
    "cdictred={'red': [(0., 0., 0.),\n",
    "                  (1., 1., 1.)],\n",
    "          'green': [(0., 0., 0.),\n",
    "                    (1., 0., 0.)],\n",
    "          'blue': [(0., 0., 0.),\n",
    "                   (1., 0., 0.)]}\n",
    "cdictgreen={'red': [(0., 0., 0.),\n",
    "                    (1., 0., 0.)],\n",
    "            'green': [(0., 0., 0.),\n",
    "                      (1., 1., 1.)],\n",
    "            'blue': [(0., 0., 0.),\n",
    "                     (1., 0., 0.)]}\n",
    "cdictblue={'red': [(0., 0., 0.),\n",
    "                   (1., 0., 0.)],\n",
    "           'green': [(0., 0., 0.),\n",
    "                     (1., 0., 0.)],\n",
    "           'blue':  [(0., 0., 0.),\n",
    "                     (1., 1., 1.)]}\n",
    "red=LinearSegmentedColormap('myred',cdictred)\n",
    "plt.register_cmap(cmap=red)\n",
    "green=LinearSegmentedColormap('mygreen',cdictgreen)\n",
    "plt.register_cmap(cmap=green)\n",
    "blue=LinearSegmentedColormap('myblue',cdictblue)\n",
    "plt.register_cmap(cmap=blue)\n",
    "\n",
    "## Plot select injections\n",
    "for i, inj in enumerate(select_injections):\n",
    "    fig,ax=plt.subplots()\n",
    "    color=select_colors[i]\n",
    "    plot_integrated(fig, ax, inj, color, color,\n",
    "                    Xvirt_int_grid, Yvirt_ipsi_int_grid)\n",
    "    plt.tick_params(axis='both', which='both', bottom='off',\n",
    "                    top='off', labelbottom='off', right='off',\n",
    "                    left='off', labelleft='off')\n",
    "    plt.xlabel('center - right', fontsize=24)\n",
    "    plt.ylabel('posterior - anterior', fontsize=24)\n",
    "    fig_file=os.path.join(int_plot_dir, \"select_virt_inj%d.png\" % i)\n",
    "    plt.savefig(fig_file)\n",
    "    plt.close()\n"
   ]
  }
 ],
 "metadata": {
  "kernelspec": {
   "display_name": "Python 2",
   "language": "python",
   "name": "python2"
  },
  "language_info": {
   "codemirror_mode": {
    "name": "ipython",
    "version": 2
   },
   "file_extension": ".py",
   "mimetype": "text/x-python",
   "name": "python",
   "nbconvert_exporter": "python",
   "pygments_lexer": "ipython2",
   "version": "2.7.13"
  }
 },
 "nbformat": 4,
 "nbformat_minor": 0
}
